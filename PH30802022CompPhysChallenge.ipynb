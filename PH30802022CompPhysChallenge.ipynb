{
 "cells": [
  {
   "cell_type": "markdown",
   "id": "ae2c3dee",
   "metadata": {},
   "source": [
    "# Simulate the Effects of Moon Wobble\n",
    "\n",
    "The purpose of this notebook is to simulate the effects of a periodic moon wobble phenominon.\n",
    "\n",
    "After considering a number of simulation methods, we decide to use the method proposed by [this paper](https://www.nature.com/articles/s41558-021-01077-8), and the simulation part of our code is therefore similar to [the code](https://github.com/philiprt/us-htf-projections/tree/v1.2) used by the linked paper.\n",
    "\n",
    "This notebook has been tested and runs successfully on\n",
    "\n",
    "Authors: "
   ]
  },
  {
   "cell_type": "markdown",
   "id": "01e31a6f",
   "metadata": {},
   "source": [
    "## Import Packages and Define Support Functions\n",
    "\n",
    "Please first ensure that you have all modules installed in your environment."
   ]
  },
  {
   "cell_type": "code",
   "execution_count": 2,
   "id": "771264ae",
   "metadata": {},
   "outputs": [],
   "source": [
    "from matplotlib.animation import FuncAnimation\n",
    "import matplotlib.pyplot as plt\n",
    "\n",
    "from multiprocessing import Pool\n",
    "from typing import List\n",
    "from tqdm import tqdm\n",
    "import datetime as dt\n",
    "import pandas as pd\n",
    "import numpy as np\n",
    "import pymc3 as pm\n",
    "import requests\n",
    "import pickle\n",
    "import utide\n",
    "import json\n",
    "import os\n",
    "\n",
    "#------------------------------------------------------------------------------\n",
    "#unfinished\n",
    "def get_station_name(sta_id, path=save_path+f'{country}/') -> List[str]:\n",
    "    df = pd.read_pickle(path+'station_info.pickle')\n",
    "    return "
   ]
  },
  {
   "cell_type": "markdown",
   "id": "5b94b40f",
   "metadata": {},
   "source": [
    "## Configs\n",
    "\n",
    "**save_path**: The directory from which the downloaded and calculated files will be saved and loaded from."
   ]
  },
  {
   "cell_type": "code",
   "execution_count": 3,
   "id": "b943efe0",
   "metadata": {},
   "outputs": [],
   "source": [
    "save_path = './' \n",
    "country = 'us'\n",
    "station_ids = [1612340, 8443970, 8658120]"
   ]
  },
  {
   "cell_type": "markdown",
   "id": "265644ed",
   "metadata": {},
   "source": [
    "## 1. Downloading Data\n",
    "\n",
    "US tidal gauge data is provided by\n",
    "\n",
    "UK tidal gauge data is provided by"
   ]
  },
  {
   "cell_type": "code",
   "execution_count": 11,
   "id": "f8908f5c",
   "metadata": {
    "scrolled": false
   },
   "outputs": [
    {
     "name": "stdout",
     "output_type": "stream",
     "text": [
      "Downloading station info...\n",
      "Downloading tidal data...\n"
     ]
    },
    {
     "name": "stderr",
     "output_type": "stream",
     "text": [
      "(1/3)Honolulu_1612340: 100%|██████████████████| 122/122 [01:47<00:00,  1.14it/s]\n",
      "(2/3)Boston_8443970: 100%|████████████████████| 122/122 [01:48<00:00,  1.12it/s]\n",
      "(3/3)Wilmington_8658120: 100%|████████████████| 122/122 [01:40<00:00,  1.21it/s]\n"
     ]
    },
    {
     "name": "stdout",
     "output_type": "stream",
     "text": [
      "Download finished\n"
     ]
    }
   ],
   "source": [
    "def download_us_data(ids, out_path=save_path+'us/'):\n",
    "    os.makedirs(out_path, exist_ok=True)\n",
    "    \n",
    "    print('Downloading station information...')\n",
    "    \n",
    "    if ids:\n",
    "        stations = []\n",
    "        for i in ids:\n",
    "            url = f'https://api.tidesandcurrents.noaa.gov/mdapi/prod/webapi/stations/{i}.json'\n",
    "            stations += json.loads(requests.get(url).text)['stations']\n",
    "            \n",
    "    else:\n",
    "        url = 'https://api.tidesandcurrents.noaa.gov/mdapi/prod/webapi/stations.json'\n",
    "        stations = json.loads(requests.get(url).text)['stations']\n",
    "        \n",
    "    stations = [s for s in stations if s['tidal'] & ~s['greatlakes']]\n",
    "    keys = ['name','id', 'lat', 'lng']\n",
    "    meta = pd.DataFrame([list(map(s.get, keys)) for s in stations], \n",
    "                        columns=keys)\n",
    "    with open(out_path+'station_meta.pickle', 'wb') as f:\n",
    "        pickle.dump(meta, f)\n",
    "    \n",
    "    #--------------------------------------------------------------------------\n",
    "    \n",
    "    print('Downloading tidal data...')\n",
    "    \n",
    "    url_base = 'https://api.tidesandcurrents.noaa.gov/api/prod/datagetter?'\n",
    "    url_end = 'product=hourly_height&datum=MHHW&units=metric&time_zone=gmt&format=json'\n",
    "    \n",
    "    for i, sta in enumerate(stations):\n",
    "        url_id = f'station={sta[\"id\"]}&'\n",
    "        desc = f'({i+1}/{len(stations)}){sta[\"name\"]}_{sta[\"id\"]}'\n",
    "        \n",
    "        datas = []\n",
    "        for yr in tqdm(range(1900, 2022), desc=desc):\n",
    "            url_date = f'begin_date={yr}0101&end_date={yr}1231&'\n",
    "            url = url_base + url_date + url_id + url_end\n",
    "            data = json.loads(requests.get(url).text)\n",
    "            if 'error' in data:\n",
    "                continue\n",
    "            else:\n",
    "                datas += data['data']\n",
    "        \n",
    "        obss = [d['v'] if d['v'] else None for d in datas]\n",
    "        ts = [d['t'] for d in datas]\n",
    "        df = pd.DataFrame(obss, \n",
    "                          dtype=np.float16, \n",
    "                          index=pd.to_datetime(ts), \n",
    "                          columns=['obs'])\n",
    "        df.index.names = ['time']\n",
    "        \n",
    "        sta_path = out_path + f'{sta[\"id\"]}/'\n",
    "        os.makedirs(sta_path, exist_ok=True)\n",
    "        with open(sta_path+'tide_guage.pickle','wb') as f:\n",
    "            pickle.dump(df, f)\n",
    "            \n",
    "    print('Download finished')\n",
    "\n",
    "#------------------------------------------------------------------------------\n",
    "\n",
    "def download_uk_data(ids, out_path=save_path+'uk/'):\n",
    "    pass\n",
    "    # os.makedirs(out_path, exist_ok=True)\n",
    "    \n",
    "    # print('Downloading station information...')\n",
    "    \n",
    "    # url_base = 'https://environment.data.gov.uk/flood-monitoring/id/stations'\n",
    "    \n",
    "    # if ids:\n",
    "    #     stations = []\n",
    "    #     for i in ids:\n",
    "    #         url = url_base + f'/{i}'\n",
    "    #         stations += json.loads(requests.get(url).text)['items']\n",
    "            \n",
    "    # else:\n",
    "    #     url = url_base + '?type=TideGauge'\n",
    "    #     stations = json.loads(requests.get(url).text)['items']\n",
    "        \n",
    "    # keys = ['label','stationReference', 'lat', 'long']\n",
    "    # meta = pd.DataFrame([list(map(s.get, keys)) for s in stations], \n",
    "    #                     columns=keys)\n",
    "    # with open(out_path+'station_meta.pickle', 'wb') as f:\n",
    "    #     pickle.dump(meta, f)\n",
    "    \n",
    "    #--------------------------------------------------------------------------\n",
    "    \n",
    "\n",
    "#------------------------------------------------------------------------------\n",
    "\n",
    "if country == 'us':\n",
    "    download_us_data(station_ids)\n",
    "elif country == 'uk':\n",
    "    download_uk_data(station_ids)\n",
    "else:\n",
    "    raise Exception('Unknown country. Unable to downlaod.')\n"
   ]
  },
  {
   "cell_type": "markdown",
   "id": "c4be6519",
   "metadata": {},
   "source": [
    "### (Optional) A quick plot of the downloaded tidal data\n",
    "\n",
    "(For debugging)"
   ]
  },
  {
   "cell_type": "code",
   "execution_count": 13,
   "id": "3abc2e4f",
   "metadata": {},
   "outputs": [
    {
     "data": {
      "image/png": "[encoded data removed]",
      "text/plain": [
       "<Figure size 432x288 with 1 Axes>"
      ]
     },
     "metadata": {
      "needs_background": "light"
     },
     "output_type": "display_data"
    }
   ],
   "source": [
    "def plot_historical_tide(sta_id, path=save_path+f'{country}/'):\n",
    "    df = pd.read_pickle(path+f'{sta_id}/tide_guage.pickle')\n",
    "    plt.plot(df.index, df['obs'])\n",
    "    \n",
    "plot_historical_tide(station_ids[1])"
   ]
  },
  {
   "cell_type": "markdown",
   "id": "89e43d15",
   "metadata": {},
   "source": [
    "## 2."
   ]
  },
  {
   "cell_type": "code",
   "execution_count": null,
   "id": "ed671cb6",
   "metadata": {},
   "outputs": [],
   "source": []
  },
  {
   "cell_type": "code",
   "execution_count": null,
   "id": "4d53305d",
   "metadata": {},
   "outputs": [],
   "source": []
  }
 ],
 "metadata": {
  "kernelspec": {
   "display_name": "Python 3 (ipykernel)",
   "language": "python",
   "name": "python3"
  },
  "language_info": {
   "codemirror_mode": {
    "name": "ipython",
    "version": 3
   },
   "file_extension": ".py",
   "mimetype": "text/x-python",
   "name": "python",
   "nbconvert_exporter": "python",
   "pygments_lexer": "ipython3",
   "version": "3.8.12"
  }
 },
 "nbformat": 4,
 "nbformat_minor": 5
}
